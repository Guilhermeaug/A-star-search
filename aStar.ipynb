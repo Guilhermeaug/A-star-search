{
 "cells": [
  {
   "cell_type": "markdown",
   "metadata": {},
   "source": [
    "# Exercício Busca A*\n",
    "Represente a operação da busca A* aplicada ao problema de ir até Bucareste a partir\n",
    "de Arad usando a heurística de distância em linha reta. Isto é, mostre a sequência de\n",
    "nós que o algoritmo irá considerar e a pontuação de f, g e h para cada nó (Faça a\n",
    "implementação em uma linguagem de programação, preferencialmente em Python).\n"
   ]
  },
  {
   "cell_type": "markdown",
   "metadata": {},
   "source": [
    "Legenda:\n",
    "\n",
    "    .g(n) = custo até o momento para alcançar n\n",
    "    .h(n) = custo estimado de n até o objetivo\n",
    "    .f(n) = custo total estimado do caminho através de n até o objetivo."
   ]
  },
  {
   "cell_type": "markdown",
   "metadata": {},
   "source": [
    "Para começar nosso problema, vamos utilizar uma fila de prioridade mínima (Min Heap) para modelar cada caminho que vamos vasculhar, utilizando o custo f(n) como critério"
   ]
  },
  {
   "cell_type": "code",
   "execution_count": 6,
   "metadata": {},
   "outputs": [],
   "source": [
    "import heapq\n",
    "from queue import LifoQueue, Queue\n",
    "\n",
    "class PriorityQueue:\n",
    "    def __init__(self):\n",
    "        self._queue = []\n",
    "        self._index = 0\n",
    "\n",
    "    def push(self, item, priority):\n",
    "        heapq.heappush(self._queue, (priority, self._index, item))\n",
    "        self._index += 1\n",
    "\n",
    "    def pop(self):\n",
    "        # Pop the smallest item from the queue\n",
    "        return heapq.heappop(self._queue)[-1]\n",
    "\n",
    "    def is_empty(self):\n",
    "        return len(self._queue) == 0\n",
    "    \n",
    "    def __repr__(self):\n",
    "        return str(self._queue)"
   ]
  },
  {
   "cell_type": "markdown",
   "metadata": {},
   "source": [
    "A classe Vertex representa um vértice em um grafo, sendo capaz de guardar os vértices que chegaram nela através do atributo\n",
    "\"city_came_by\" para permitir criar um caminho direcionado no grafo de forma simples, seus vizinhos e seu custo f(n)"
   ]
  },
  {
   "cell_type": "code",
   "execution_count": 7,
   "metadata": {},
   "outputs": [],
   "source": [
    "class Vertex:\n",
    "        def __init__(self, city, cost_function_f=0, city_came_by=None, color=\"branco\", neighbors=None):\n",
    "            self.city = city\n",
    "            self.neighbors = {} if neighbors is None else neighbors\n",
    "            self.color = color\n",
    "            self.cost_function_f = cost_function_f\n",
    "            self.city_came_by = city_came_by\n",
    "\n",
    "        def add_neighbor(self, neighbor, distance):\n",
    "            self.neighbors[neighbor] = distance\n",
    "\n",
    "        def get_neighbors(self):\n",
    "            return self.neighbors.keys()\n",
    "\n",
    "        def get_distance_to(self, neighbor):\n",
    "            return self.neighbors[neighbor]\n",
    "\n",
    "        def __repr__(self):\n",
    "            return self.city + \" V\"\n",
    "\n",
    "        def is_neighbor(self, neighbor):\n",
    "            return neighbor in self.neighbors\n",
    "\n",
    "        def clone(self):\n",
    "            vertex = Vertex(self.city, self.cost_function_f, self.city_came_by, self.color)\n",
    "            vertex.neighbors = self.neighbors.copy()\n",
    "            return vertex"
   ]
  },
  {
   "cell_type": "markdown",
   "metadata": {},
   "source": [
    "Para modelar o relacionamento entre as cidades, criamos um grafo, capaz de relacionar os custos entre os vizinhos e usar a busca a*"
   ]
  },
  {
   "cell_type": "code",
   "execution_count": 8,
   "metadata": {},
   "outputs": [],
   "source": [
    "class Graph:\n",
    "    def __init__(self):\n",
    "        self.vertices = {}\n",
    "        self.heuristic = {}\n",
    "        self.paths_queue = PriorityQueue()\n",
    "        \n",
    "    def add_vertex(self, city):\n",
    "        if city not in self.vertices:\n",
    "            self.vertices[city] = Vertex(city)\n",
    "\n",
    "    def add_edge(self, start, end, distance):\n",
    "        self.vertices[start].add_neighbor(self.vertices[end], distance)\n",
    "        self.vertices[end].add_neighbor(self.vertices[start], distance)\n",
    "\n",
    "\n",
    "    def local_cost_function(self, vertex, neighbor):\n",
    "        return vertex.get_distance_to(neighbor) + self.heuristic[neighbor.city]\n",
    "    \n",
    "    def print_path(self, end_vertex):\n",
    "        lifo_queue = LifoQueue() # Pilha de chamada\n",
    "        while end_vertex is not None:\n",
    "            lifo_queue.put(end_vertex.city)\n",
    "            end_vertex = end_vertex.city_came_by\n",
    "        print(\"caminho:\")\n",
    "        while lifo_queue.qsize() > 1:\n",
    "            print(lifo_queue.get() + \" - > \", end=\"\")\n",
    "        print(lifo_queue.get())\n",
    "    \n",
    "    def cost_function_g(self, vertex):\n",
    "        if vertex.cost_function_f == 0 or vertex.city_came_by == None:\n",
    "            return 0\n",
    "        return vertex.cost_function_f - self.heuristic[vertex.city]\n",
    "    \n",
    "    def print_cost_g(self, start_vertex):\n",
    "        print(\"custo g: \" + str(self.cost_function_g(start_vertex)))\n",
    "    \n",
    "    def print_cost_h(self, end_vertex):\n",
    "        print(\"custo h: \" + str(self.heuristic[end_vertex.city]))\n",
    "\n",
    "    def a_starCall(self, start_vertex, end_city):\n",
    "        end = self.vertices[end_city]\n",
    "        start_vertex.color = \"cinza\"\n",
    "        \n",
    "        # Verifica se ja chegou\n",
    "        if start_vertex.city == end_city:\n",
    "            verticeFinal = self.paths_queue.pop()\n",
    "            if verticeFinal.cost_function_f >= self.vertices[end_city].cost_function_f:\n",
    "                self.print_path(start_vertex)\n",
    "                return 1\n",
    "            \n",
    "            # Se nao chegou reset\n",
    "            start_vertex.color = \"branco\"\n",
    "            start_vertex.cost_function_f = 0\n",
    "            return 0\n",
    "\n",
    "        # Se nao chegou\n",
    "        \n",
    "        # Remova o custo da heuristica do custo_f do vertice        \n",
    "        start_vertex.cost_function_f = self.cost_function_g(start_vertex)\n",
    "        \n",
    "        # Passa pelos vizinhos\n",
    "        for vertex in start_vertex.get_neighbors():\n",
    "            if vertex.color == \"branco\":\n",
    "                vertex_clone = vertex.clone()\n",
    "                vertex_clone.city_came_by = start_vertex\n",
    "                vertex_clone.cost_function_f = (\n",
    "                    start_vertex.cost_function_f\n",
    "                    + self.local_cost_function(start_vertex, vertex)\n",
    "                )\n",
    "                self.paths_queue.push(vertex_clone, vertex_clone.cost_function_f)\n",
    "        return 0\n",
    "\n",
    "    def a_star(self, start_city, end_city, heuristic):\n",
    "        self.heuristic = heuristic\n",
    "        self.paths_queue = PriorityQueue()\n",
    "        start_vertex = self.vertices[start_city]\n",
    "        self.paths_queue.push(start_vertex, 0)\n",
    "\n",
    "        for vertex in self.vertices.values():\n",
    "            vertex.color = \"branco\"\n",
    "            \n",
    "        while not self.paths_queue.is_empty():\n",
    "            new_vertex = self.paths_queue.pop()\n",
    "            if new_vertex.city_came_by is not None:\n",
    "                print(new_vertex.city_came_by.city + \" -> \" + new_vertex.city)\n",
    "                self.print_cost_g(new_vertex)\n",
    "                self.print_cost_h(new_vertex)\n",
    "                print(\"custo f: \" + str(new_vertex.cost_function_f))\n",
    "            else:\n",
    "                print(new_vertex.city)\n",
    "                self.print_cost_g(new_vertex)\n",
    "                self.print_cost_h(new_vertex)\n",
    "                print(\"custo f: \" + str(self.heuristic[new_vertex.city]))\n",
    "            if self.a_starCall(new_vertex, end_city) == 1:\n",
    "                return \"sucesso\"\n",
    "        return 0\n",
    "       "
   ]
  },
  {
   "cell_type": "markdown",
   "metadata": {},
   "source": [
    "Lendo o grafo passado"
   ]
  },
  {
   "cell_type": "code",
   "execution_count": 9,
   "metadata": {},
   "outputs": [
    {
     "name": "stdout",
     "output_type": "stream",
     "text": [
      "[('Oradea', 'Zerind', 71), ('Oradea', 'Sibiu', 151), ('Arad', 'Zerind', 75), ('Arad', 'Sibiu', 140), ('Arad', 'Timisoara', 118), ('Timisoara', 'Lugoj', 111), ('Lugoj', 'Mehadia', 70), ('Mehadia', 'Drobeta', 75), ('Drobeta', 'Craiova', 120), ('Craiova', 'Rimnicu Vilcea', 146), ('Craiova', 'Pitesti', 138), ('Rimnicu Vilcea', 'Pitesti', 97), ('Rimnicu Vilcea', 'Sibiu', 80), ('Sibiu', 'Fagaras', 99), ('Fagaras', 'Bucareste', 211), ('Pitesti', 'Bucareste', 101), ('Bucareste', 'Giurgiu', 90), ('Bucareste', 'Urziceni', 85), ('Urziceni', 'Hirsova', 98), ('Hirsova', 'Eforie', 86), ('Urziceni', 'Vaslui', 142), ('Vaslui', 'Iasi', 92), ('Iasi', 'Neamt', 87)]\n"
     ]
    }
   ],
   "source": [
    "data = []\n",
    "\n",
    "with open(\"Grafo.txt\", \"r\") as file:\n",
    "    for line in file:\n",
    "        start, end, distance = line.strip().split(\";\")\n",
    "        data.append((start, end, int(distance)))\n",
    "\n",
    "print(data)"
   ]
  },
  {
   "cell_type": "markdown",
   "metadata": {},
   "source": [
    "Lendo a heurística passada"
   ]
  },
  {
   "cell_type": "code",
   "execution_count": 10,
   "metadata": {},
   "outputs": [
    {
     "name": "stdout",
     "output_type": "stream",
     "text": [
      "{'Arad': 366, 'Bucareste': 0, 'Craiova': 160, 'Drobeta': 242, 'Eforie': 161, 'Fagaras': 176, 'Giurgiu': 77, 'Hirsova': 151, 'Iasi': 226, 'Lugoj': 244, 'Mehadia': 241, 'Neamt': 234, 'Oradea': 380, 'Pitesti': 100, 'Rimnicu Vilcea': 193, 'Sibiu': 253, 'Timisoara': 329, 'Urziceni': 80, 'Vaslui': 199, 'Zerind': 374}\n"
     ]
    }
   ],
   "source": [
    "my_heuristic = {}\n",
    "\n",
    "with open(\"Heuristica.txt\", \"r\") as file:\n",
    "    for line in file:\n",
    "        city, heuristic = line.strip().split(\";\")\n",
    "        my_heuristic[city] = int(heuristic)\n",
    "\n",
    "print(my_heuristic)"
   ]
  },
  {
   "cell_type": "markdown",
   "metadata": {},
   "source": [
    "Testando:"
   ]
  },
  {
   "cell_type": "code",
   "execution_count": 11,
   "metadata": {},
   "outputs": [
    {
     "name": "stdout",
     "output_type": "stream",
     "text": [
      "Arad\n",
      "custo g: 0\n",
      "custo h: 366\n",
      "custo f: 366\n",
      "Arad -> Sibiu\n",
      "custo g: 140\n",
      "custo h: 253\n",
      "custo f: 393\n",
      "Sibiu -> Rimnicu Vilcea\n",
      "custo g: 220\n",
      "custo h: 193\n",
      "custo f: 413\n",
      "Sibiu -> Fagaras\n",
      "custo g: 239\n",
      "custo h: 176\n",
      "custo f: 415\n",
      "Rimnicu Vilcea -> Pitesti\n",
      "custo g: 317\n",
      "custo h: 100\n",
      "custo f: 417\n",
      "Pitesti -> Bucareste\n",
      "custo g: 418\n",
      "custo h: 0\n",
      "custo f: 418\n",
      "caminho:\n",
      "Arad - > Sibiu - > Rimnicu Vilcea - > Pitesti - > Bucareste\n"
     ]
    },
    {
     "data": {
      "text/plain": [
       "'sucesso'"
      ]
     },
     "execution_count": 11,
     "metadata": {},
     "output_type": "execute_result"
    }
   ],
   "source": [
    "graph = Graph()\n",
    "\n",
    "for start, end, distance in data:\n",
    "    graph.add_vertex(start)\n",
    "    graph.add_vertex(end)\n",
    "    graph.add_edge(start, end, distance)\n",
    "\n",
    "graph.a_star(\"Arad\", \"Bucareste\", my_heuristic)"
   ]
  }
 ],
 "metadata": {
  "kernelspec": {
   "display_name": "base",
   "language": "python",
   "name": "python3"
  },
  "language_info": {
   "codemirror_mode": {
    "name": "ipython",
    "version": 3
   },
   "file_extension": ".py",
   "mimetype": "text/x-python",
   "name": "python",
   "nbconvert_exporter": "python",
   "pygments_lexer": "ipython3",
   "version": "3.11.7"
  }
 },
 "nbformat": 4,
 "nbformat_minor": 2
}
